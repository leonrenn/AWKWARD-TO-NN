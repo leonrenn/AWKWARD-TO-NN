{
 "cells": [
  {
   "attachments": {},
   "cell_type": "markdown",
   "metadata": {},
   "source": [
    "# Process Awkward Arrays to Using NN\n",
    "---\n",
    "This notebook should help in order to process data from an awkward array to a format that can be used by the NN.<br>\n",
    "Awkward arrays are a data structure that is used in the HEP community. It is a nested array structure that can be used to store data in a more efficient way than a numpy array. <br>\n",
    "The data structure is described in more detail [here](https://awkward-array.org/doc/main/)."
   ]
  },
  {
   "attachments": {},
   "cell_type": "markdown",
   "metadata": {},
   "source": [
    "### Import Modules for Awkward Arrays"
   ]
  },
  {
   "cell_type": "code",
   "execution_count": 1,
   "metadata": {},
   "outputs": [],
   "source": [
    "import awkward as ak"
   ]
  },
  {
   "attachments": {},
   "cell_type": "markdown",
   "metadata": {},
   "source": [
    "### Generate Sample Data\n",
    "As it is shown for the example data, the length of the array is not the same for each event for _el_pt_.<br>\n",
    "This is a typical case in HEP data, where the number of particles in an event is not the same for each event.<br>"
   ]
  },
  {
   "cell_type": "code",
   "execution_count": 4,
   "metadata": {},
   "outputs": [],
   "source": [
    "# awkward array with event index, el_pt, met, event weight\n",
    "ak_array = ak.Array([[{\"Event\": 0, \"el_pt\": [10, 20], \"met\": 20, \"eventWeight\": 1}, \n",
    "                      {\"Event\": 1, \"el_pt\": [], \"met\": 30, \"eventWeight\": 1}, \n",
    "                      {\"Event\": 2, \"el_pt\": [3], \"met\": 40, \"eventWeight\": 1}]])\n",
    "\n"
   ]
  }
 ],
 "metadata": {
  "kernelspec": {
   "display_name": "base",
   "language": "python",
   "name": "python3"
  },
  "language_info": {
   "codemirror_mode": {
    "name": "ipython",
    "version": 3
   },
   "file_extension": ".py",
   "mimetype": "text/x-python",
   "name": "python",
   "nbconvert_exporter": "python",
   "pygments_lexer": "ipython3",
   "version": "3.9.16"
  },
  "orig_nbformat": 4
 },
 "nbformat": 4,
 "nbformat_minor": 2
}
